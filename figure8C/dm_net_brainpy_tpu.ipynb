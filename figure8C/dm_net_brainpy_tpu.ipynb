{
 "metadata": {
  "kernelspec": {
   "language": "python",
   "display_name": "Python 3",
   "name": "python3"
  },
  "language_info": {
   "name": "python",
   "version": "3.8.17",
   "mimetype": "text/x-python",
   "codemirror_mode": {
    "name": "ipython",
    "version": 3
   },
   "pygments_lexer": "ipython3",
   "nbconvert_exporter": "python",
   "file_extension": ".py"
  }
 },
 "nbformat_minor": 4,
 "nbformat": 4,
 "cells": [
  {
   "cell_type": "code",
   "source": [
    "!pip install jax[tpu]==0.4.11 -f https://storage.googleapis.com/jax-releases/libtpu_releases.html"
   ],
   "metadata": {
    "execution": {
     "iopub.status.busy": "2023-09-18T08:28:51.960737Z",
     "iopub.execute_input": "2023-09-18T08:28:51.961148Z",
     "iopub.status.idle": "2023-09-18T08:29:27.544967Z",
     "shell.execute_reply.started": "2023-09-18T08:28:51.961116Z",
     "shell.execute_reply": "2023-09-18T08:29:27.543868Z"
    },
    "trusted": true
   },
   "execution_count": 1,
   "outputs": [
    {
     "name": "stdout",
     "text": "Looking in links: https://storage.googleapis.com/jax-releases/libtpu_releases.html\nCollecting jax[tpu]==0.4.11\n  Downloading jax-0.4.11.tar.gz (1.3 MB)\n\u001B[2K     \u001B[90m━━━━━━━━━━━━━━━━━━━━━━━━━━━━━━━━━━━━━━━━\u001B[0m \u001B[32m1.3/1.3 MB\u001B[0m \u001B[31m15.6 MB/s\u001B[0m eta \u001B[36m0:00:00\u001B[0m00:01\u001B[0m0:01\u001B[0m\n\u001B[?25h  Installing build dependencies ... \u001B[?25ldone\n\u001B[?25h  Getting requirements to build wheel ... \u001B[?25ldone\n\u001B[?25h  Preparing metadata (pyproject.toml) ... \u001B[?25ldone\n\u001B[?25hRequirement already satisfied: importlib-metadata>=4.6 in /usr/local/lib/python3.8/site-packages (from jax[tpu]==0.4.11) (6.8.0)\nRequirement already satisfied: opt-einsum in /usr/local/lib/python3.8/site-packages (from jax[tpu]==0.4.11) (3.3.0)\nRequirement already satisfied: ml-dtypes>=0.1.0 in /usr/local/lib/python3.8/site-packages (from jax[tpu]==0.4.11) (0.2.0)\nRequirement already satisfied: numpy>=1.21 in /usr/local/lib/python3.8/site-packages (from jax[tpu]==0.4.11) (1.23.5)\nRequirement already satisfied: scipy>=1.7 in /usr/local/lib/python3.8/site-packages (from jax[tpu]==0.4.11) (1.10.1)\nCollecting jaxlib==0.4.11\n  Downloading jaxlib-0.4.11-cp38-cp38-manylinux2014_x86_64.whl (71.1 MB)\n\u001B[2K     \u001B[90m━━━━━━━━━━━━━━━━━━━━━━━━━━━━━━━━━━━━━━━━\u001B[0m \u001B[32m71.1/71.1 MB\u001B[0m \u001B[31m11.6 MB/s\u001B[0m eta \u001B[36m0:00:00\u001B[0m00:01\u001B[0m00:01\u001B[0m\n\u001B[?25hCollecting libtpu-nightly==0.1.dev20230531\n  Downloading https://storage.googleapis.com/cloud-tpu-tpuvm-artifacts/wheels/libtpu-nightly/libtpu_nightly-0.1.dev20230531-py3-none-any.whl (170.7 MB)\n\u001B[2K     \u001B[90m━━━━━━━━━━━━━━━━━━━━━━━━━━━━━━━━━━━━━━━\u001B[0m \u001B[32m170.7/170.7 MB\u001B[0m \u001B[31m2.4 MB/s\u001B[0m eta \u001B[36m0:00:00\u001B[0m00:01\u001B[0m00:01\u001B[0m\n\u001B[?25hRequirement already satisfied: zipp>=0.5 in /usr/local/lib/python3.8/site-packages (from importlib-metadata>=4.6->jax[tpu]==0.4.11) (3.15.0)\nBuilding wheels for collected packages: jax\n  Building wheel for jax (pyproject.toml) ... \u001B[?25ldone\n\u001B[?25h  Created wheel for jax: filename=jax-0.4.11-py3-none-any.whl size=1487871 sha256=843c8018ba365c6e73e2709b2dda6b48ec5f9ecb877f23efbd44246e5474831e\n  Stored in directory: /root/.cache/pip/wheels/65/e8/48/e882a3b1894ac6faa056112773675b7fee52390b219207334f\nSuccessfully built jax\nInstalling collected packages: libtpu-nightly, jaxlib, jax\n  Attempting uninstall: libtpu-nightly\n    Found existing installation: libtpu-nightly 0.1.dev20230309\n    Uninstalling libtpu-nightly-0.1.dev20230309:\n      Successfully uninstalled libtpu-nightly-0.1.dev20230309\n  Attempting uninstall: jaxlib\n    Found existing installation: jaxlib 0.4.6\n    Uninstalling jaxlib-0.4.6:\n      Successfully uninstalled jaxlib-0.4.6\n  Attempting uninstall: jax\n    Found existing installation: jax 0.4.6\n    Uninstalling jax-0.4.6:\n      Successfully uninstalled jax-0.4.6\nSuccessfully installed jax-0.4.11 jaxlib-0.4.11 libtpu-nightly-0.1.dev20230531\n\u001B[33mWARNING: Running pip as the 'root' user can result in broken permissions and conflicting behaviour with the system package manager. It is recommended to use a virtual environment instead: https://pip.pypa.io/warnings/venv\u001B[0m\u001B[33m\n\u001B[0m\n\u001B[1m[\u001B[0m\u001B[34;49mnotice\u001B[0m\u001B[1;39;49m]\u001B[0m\u001B[39;49m A new release of pip is available: \u001B[0m\u001B[31;49m23.0.1\u001B[0m\u001B[39;49m -> \u001B[0m\u001B[32;49m23.2.1\u001B[0m\n\u001B[1m[\u001B[0m\u001B[34;49mnotice\u001B[0m\u001B[1;39;49m]\u001B[0m\u001B[39;49m To update, run: \u001B[0m\u001B[32;49mpip install --upgrade pip\u001B[0m\n",
     "output_type": "stream"
    }
   ]
  },
  {
   "cell_type": "code",
   "source": [
    "import jax\n",
    "print(jax.__version__)\n",
    "print(jax.devices())"
   ],
   "metadata": {
    "execution": {
     "iopub.status.busy": "2023-09-18T08:29:27.546887Z",
     "iopub.execute_input": "2023-09-18T08:29:27.547198Z",
     "iopub.status.idle": "2023-09-18T08:29:34.386827Z",
     "shell.execute_reply.started": "2023-09-18T08:29:27.547167Z",
     "shell.execute_reply": "2023-09-18T08:29:34.385531Z"
    },
    "trusted": true
   },
   "execution_count": 2,
   "outputs": [
    {
     "name": "stdout",
     "text": "0.4.11\n[TpuDevice(id=0, process_index=0, coords=(0,0,0), core_on_chip=0), TpuDevice(id=1, process_index=0, coords=(0,0,0), core_on_chip=1), TpuDevice(id=2, process_index=0, coords=(1,0,0), core_on_chip=0), TpuDevice(id=3, process_index=0, coords=(1,0,0), core_on_chip=1), TpuDevice(id=4, process_index=0, coords=(0,1,0), core_on_chip=0), TpuDevice(id=5, process_index=0, coords=(0,1,0), core_on_chip=1), TpuDevice(id=6, process_index=0, coords=(1,1,0), core_on_chip=0), TpuDevice(id=7, process_index=0, coords=(1,1,0), core_on_chip=1)]\n",
     "output_type": "stream"
    }
   ]
  },
  {
   "cell_type": "code",
   "source": [
    "!pip install brainpy"
   ],
   "metadata": {
    "execution": {
     "iopub.status.busy": "2023-09-18T08:29:34.388378Z",
     "iopub.execute_input": "2023-09-18T08:29:34.388839Z",
     "iopub.status.idle": "2023-09-18T08:29:40.195335Z",
     "shell.execute_reply.started": "2023-09-18T08:29:34.388806Z",
     "shell.execute_reply": "2023-09-18T08:29:40.193804Z"
    },
    "trusted": true
   },
   "execution_count": 3,
   "outputs": [
    {
     "name": "stdout",
     "text": "Collecting brainpy\n  Downloading brainpy-2.4.5-py3-none-any.whl (669 kB)\n\u001B[2K     \u001B[90m━━━━━━━━━━━━━━━━━━━━━━━━━━━━━━━━━━━━━━\u001B[0m \u001B[32m669.2/669.2 kB\u001B[0m \u001B[31m10.9 MB/s\u001B[0m eta \u001B[36m0:00:00\u001B[0ma \u001B[36m0:00:01\u001B[0m\n\u001B[?25hRequirement already satisfied: numpy>=1.15 in /usr/local/lib/python3.8/site-packages (from brainpy) (1.23.5)\nRequirement already satisfied: jax>=0.4.1 in /usr/local/lib/python3.8/site-packages (from brainpy) (0.4.11)\nRequirement already satisfied: tqdm in /usr/local/lib/python3.8/site-packages (from brainpy) (4.65.0)\nRequirement already satisfied: msgpack in /usr/local/lib/python3.8/site-packages (from brainpy) (1.0.5)\nRequirement already satisfied: numba in /usr/local/lib/python3.8/site-packages (from brainpy) (0.57.1)\nRequirement already satisfied: opt-einsum in /usr/local/lib/python3.8/site-packages (from jax>=0.4.1->brainpy) (3.3.0)\nRequirement already satisfied: ml-dtypes>=0.1.0 in /usr/local/lib/python3.8/site-packages (from jax>=0.4.1->brainpy) (0.2.0)\nRequirement already satisfied: scipy>=1.7 in /usr/local/lib/python3.8/site-packages (from jax>=0.4.1->brainpy) (1.10.1)\nRequirement already satisfied: importlib-metadata>=4.6 in /usr/local/lib/python3.8/site-packages (from jax>=0.4.1->brainpy) (6.8.0)\nRequirement already satisfied: llvmlite<0.41,>=0.40.0dev0 in /usr/local/lib/python3.8/site-packages (from numba->brainpy) (0.40.1)\nRequirement already satisfied: zipp>=0.5 in /usr/local/lib/python3.8/site-packages (from importlib-metadata>=4.6->jax>=0.4.1->brainpy) (3.15.0)\nInstalling collected packages: brainpy\nSuccessfully installed brainpy-2.4.5\n\u001B[33mWARNING: Running pip as the 'root' user can result in broken permissions and conflicting behaviour with the system package manager. It is recommended to use a virtual environment instead: https://pip.pypa.io/warnings/venv\u001B[0m\u001B[33m\n\u001B[0m\n\u001B[1m[\u001B[0m\u001B[34;49mnotice\u001B[0m\u001B[1;39;49m]\u001B[0m\u001B[39;49m A new release of pip is available: \u001B[0m\u001B[31;49m23.0.1\u001B[0m\u001B[39;49m -> \u001B[0m\u001B[32;49m23.2.1\u001B[0m\n\u001B[1m[\u001B[0m\u001B[34;49mnotice\u001B[0m\u001B[1;39;49m]\u001B[0m\u001B[39;49m To update, run: \u001B[0m\u001B[32;49mpip install --upgrade pip\u001B[0m\n",
     "output_type": "stream"
    }
   ]
  },
  {
   "cell_type": "code",
   "source": [
    "import time\n",
    "from pprint import pprint  \n",
    "import numpy as np\n",
    "import brainpy as bp\n",
    "import brainpy.math as bm\n",
    "import matplotlib.pyplot as plt"
   ],
   "metadata": {
    "_uuid": "8f2839f25d086af736a60e9eeb907d3b93b6e0e5",
    "_cell_guid": "b1076dfc-b9ad-4769-8c92-a6c4dae69d19",
    "execution": {
     "iopub.status.busy": "2023-09-18T08:29:40.198400Z",
     "iopub.execute_input": "2023-09-18T08:29:40.198785Z",
     "iopub.status.idle": "2023-09-18T08:29:43.522589Z",
     "shell.execute_reply.started": "2023-09-18T08:29:40.198751Z",
     "shell.execute_reply": "2023-09-18T08:29:43.521101Z"
    },
    "trusted": true
   },
   "execution_count": 4,
   "outputs": [
    {
     "name": "stderr",
     "text": "/usr/local/lib/python3.8/site-packages/tqdm/auto.py:21: TqdmWarning: IProgress not found. Please update jupyter and ipywidgets. See https://ipywidgets.readthedocs.io/en/stable/user_install.html\n  from .autonotebook import tqdm as notebook_tqdm\n",
     "output_type": "stream"
    }
   ]
  },
  {
   "cell_type": "code",
   "source": [
    "bp.check.turn_off()"
   ],
   "metadata": {
    "execution": {
     "iopub.status.busy": "2023-09-18T08:29:43.532078Z",
     "iopub.execute_input": "2023-09-18T08:29:43.532344Z",
     "iopub.status.idle": "2023-09-18T08:29:43.544178Z",
     "shell.execute_reply.started": "2023-09-18T08:29:43.532321Z",
     "shell.execute_reply": "2023-09-18T08:29:43.543179Z"
    },
    "trusted": true
   },
   "execution_count": 6,
   "outputs": []
  },
  {
   "cell_type": "code",
   "source": [
    "class Tool:\n",
    "  def __init__(self, pre_stimulus_period=100., stimulus_period=1000., delay_period=500.):\n",
    "    self.pre_stimulus_period = pre_stimulus_period\n",
    "    self.stimulus_period = stimulus_period\n",
    "    self.delay_period = delay_period\n",
    "    self.freq_variance = 10.\n",
    "    self.freq_interval = 50.\n",
    "    self.total_period = pre_stimulus_period + stimulus_period + delay_period\n",
    "\n",
    "  def generate_freqs(self, mean, num=1):\n",
    "    # stimulus period\n",
    "    n_stim = int(self.stimulus_period / self.freq_interval)\n",
    "    n_interval = int(self.freq_interval / bm.get_dt())\n",
    "    freqs_stim = np.random.normal(mean, self.freq_variance, (n_stim, 1, num))\n",
    "    freqs_stim = np.tile(freqs_stim, (1, n_interval, 1)).reshape(n_stim * n_interval, num)\n",
    "    # pre stimulus period\n",
    "    freqs_pre = np.zeros([int(self.pre_stimulus_period / bm.get_dt()), num])\n",
    "    # post stimulus period\n",
    "    freqs_delay = np.zeros([int(self.delay_period / bm.get_dt()), num])\n",
    "    all_freqs = np.concatenate([freqs_pre, freqs_stim, freqs_delay], axis=0)\n",
    "    return bm.asarray(all_freqs)\n",
    "\n",
    "  def visualize_results(self, mon, IA_freqs, IB_freqs, t_start=0., title=None):\n",
    "    fig, gs = bp.visualize.get_figure(4, 1, 3, 10)\n",
    "    axes = [fig.add_subplot(gs[i, 0]) for i in range(4)]\n",
    "\n",
    "    ax = axes[0]\n",
    "    bp.visualize.raster_plot(mon['ts'], mon['A.spike'], markersize=1, ax=ax)\n",
    "    if title: ax.set_title(title)\n",
    "    ax.set_ylabel(\"Group A\")\n",
    "    ax.set_xlim(t_start, self.total_period + 1)\n",
    "    ax.axvline(self.pre_stimulus_period, linestyle='dashed')\n",
    "    ax.axvline(self.pre_stimulus_period + self.stimulus_period, linestyle='dashed')\n",
    "    ax.axvline(self.pre_stimulus_period + self.stimulus_period + self.delay_period, linestyle='dashed')\n",
    "\n",
    "    ax = axes[1]\n",
    "    bp.visualize.raster_plot(mon['ts'], mon['B.spike'], markersize=1, ax=ax)\n",
    "    ax.set_ylabel(\"Group B\")\n",
    "    ax.set_xlim(t_start, self.total_period + 1)\n",
    "    ax.axvline(self.pre_stimulus_period, linestyle='dashed')\n",
    "    ax.axvline(self.pre_stimulus_period + self.stimulus_period, linestyle='dashed')\n",
    "    ax.axvline(self.pre_stimulus_period + self.stimulus_period + self.delay_period, linestyle='dashed')\n",
    "\n",
    "    ax = axes[2]\n",
    "    rateA = bp.measure.firing_rate(mon['A.spike'], width=10.)\n",
    "    rateB = bp.measure.firing_rate(mon['B.spike'], width=10.)\n",
    "    ax.plot(mon['ts'], rateA, label=\"Group A\")\n",
    "    ax.plot(mon['ts'], rateB, label=\"Group B\")\n",
    "    ax.set_ylabel('Population activity [Hz]')\n",
    "    ax.set_xlim(t_start, self.total_period + 1)\n",
    "    ax.axvline(self.pre_stimulus_period, linestyle='dashed')\n",
    "    ax.axvline(self.pre_stimulus_period + self.stimulus_period, linestyle='dashed')\n",
    "    ax.axvline(self.pre_stimulus_period + self.stimulus_period + self.delay_period, linestyle='dashed')\n",
    "    ax.legend()\n",
    "\n",
    "    ax = axes[3]\n",
    "    ax.plot(mon['ts'], IA_freqs, label=\"group A\")\n",
    "    ax.plot(mon['ts'], IB_freqs, label=\"group B\")\n",
    "    ax.set_ylabel(\"Input activity [Hz]\")\n",
    "    ax.set_xlim(t_start, self.total_period + 1)\n",
    "    ax.axvline(self.pre_stimulus_period, linestyle='dashed')\n",
    "    ax.axvline(self.pre_stimulus_period + self.stimulus_period, linestyle='dashed')\n",
    "    ax.axvline(self.pre_stimulus_period + self.stimulus_period + self.delay_period, linestyle='dashed')\n",
    "    ax.legend()\n",
    "    ax.set_xlabel(\"Time [ms]\")\n",
    "\n",
    "    plt.show()"
   ],
   "metadata": {
    "execution": {
     "iopub.status.busy": "2023-09-18T08:29:43.545490Z",
     "iopub.execute_input": "2023-09-18T08:29:43.545798Z",
     "iopub.status.idle": "2023-09-18T08:29:43.571827Z",
     "shell.execute_reply.started": "2023-09-18T08:29:43.545772Z",
     "shell.execute_reply": "2023-09-18T08:29:43.570936Z"
    },
    "trusted": true
   },
   "execution_count": 7,
   "outputs": []
  },
  {
   "cell_type": "code",
   "source": [
    "class ExpSyn(bp.Projection):\n",
    "  def __init__(self, pre, post, conn, delay, g_max, tau, E):\n",
    "    super().__init__()\n",
    "    if conn == 'all2all':\n",
    "      comm = bp.dnn.AllToAll(pre.num, post.num, g_max)\n",
    "    elif conn == 'one2one':\n",
    "      comm = bp.dnn.OneToOne(pre.num, g_max)\n",
    "    else:\n",
    "      raise ValueError\n",
    "    syn = bp.dyn.Expon.desc(post.num, tau=tau, sharding=[bm.sharding.NEU_AXIS])\n",
    "    out = bp.dyn.COBA.desc(E=E)\n",
    "    self.proj = bp.dyn.ProjAlignPostMg2(\n",
    "      pre=pre, delay=delay, comm=comm,\n",
    "      syn=syn, out=out, post=post\n",
    "    )"
   ],
   "metadata": {
    "execution": {
     "iopub.status.busy": "2023-09-18T08:29:43.572925Z",
     "iopub.execute_input": "2023-09-18T08:29:43.573218Z",
     "iopub.status.idle": "2023-09-18T08:29:43.587258Z",
     "shell.execute_reply.started": "2023-09-18T08:29:43.573194Z",
     "shell.execute_reply": "2023-09-18T08:29:43.586335Z"
    },
    "trusted": true
   },
   "execution_count": 8,
   "outputs": []
  },
  {
   "cell_type": "code",
   "source": [
    "class NMDA(bp.Projection):\n",
    "  def __init__(self, pre, post, conn, delay, g_max):\n",
    "    super().__init__()\n",
    "    if conn == 'all2all':\n",
    "      comm = bp.dnn.AllToAll(pre.num, post.num, g_max)\n",
    "    elif conn == 'one2one':\n",
    "      comm = bp.dnn.OneToOne(pre.num, g_max)\n",
    "    else:\n",
    "      raise ValueError\n",
    "    syn = bp.dyn.NMDA.desc(pre.num, a=0.5, tau_decay=100., tau_rise=2., sharding=[bm.sharding.NEU_AXIS])\n",
    "    out = bp.dyn.MgBlock(E=0., cc_Mg=1.0)\n",
    "    self.proj = bp.dyn.ProjAlignPreMg2(\n",
    "      pre=pre, delay=delay, syn=syn,\n",
    "      comm=comm, out=out, post=post\n",
    "    )"
   ],
   "metadata": {
    "execution": {
     "iopub.status.busy": "2023-09-18T08:29:43.588429Z",
     "iopub.execute_input": "2023-09-18T08:29:43.588712Z",
     "iopub.status.idle": "2023-09-18T08:29:43.601735Z",
     "shell.execute_reply.started": "2023-09-18T08:29:43.588688Z",
     "shell.execute_reply": "2023-09-18T08:29:43.600877Z"
    },
    "trusted": true
   },
   "execution_count": 9,
   "outputs": []
  },
  {
   "cell_type": "code",
   "source": [
    "class DecisionMakingNet(bp.DynSysGroup):\n",
    "  def __init__(self, scale=1., f=0.15):\n",
    "    super().__init__()\n",
    "    # 网络中各组神经元的数目\n",
    "    num_exc = int(1600 * scale)\n",
    "    num_I, num_A, num_B = int(400 * scale), int(f * num_exc), int(f * num_exc)\n",
    "    num_N = num_exc - num_A - num_B\n",
    "    self.num_A, self.num_B, self.num_N, self.num_I = num_A, num_B, num_N, num_I\n",
    "    self.num = num_A + num_B + num_N + num_I\n",
    "\n",
    "    poisson_freq = 2400.  # Hz\n",
    "    w_pos = 1.7\n",
    "    w_neg = 1. - f * (w_pos - 1.) / (1. - f)\n",
    "    g_ext2E_AMPA = 2.1  # nS\n",
    "    g_ext2I_AMPA = 1.62  # nS\n",
    "    g_E2E_AMPA = 0.05 / scale  # nS\n",
    "    g_E2I_AMPA = 0.04 / scale  # nS\n",
    "    g_E2E_NMDA = 0.165 / scale  # nS\n",
    "    g_E2I_NMDA = 0.13 / scale  # nS\n",
    "    g_I2E_GABAa = 1.3 / scale  # nS\n",
    "    g_I2I_GABAa = 1.0 / scale  # nS\n",
    "\n",
    "    neu_par = dict(V_rest=-70., V_reset=-55., V_th=-50., V_initializer=bp.init.OneInit(-70.),\n",
    "                   sharding=[bm.sharding.NEU_AXIS])\n",
    "\n",
    "    # E neurons/pyramid neurons\n",
    "    self.A = bp.dyn.LifRef(num_A, tau=20., R=0.04, tau_ref=2., **neu_par)\n",
    "    self.B = bp.dyn.LifRef(num_B, tau=20., R=0.04, tau_ref=2., **neu_par)\n",
    "    self.N = bp.dyn.LifRef(num_N, tau=20., R=0.04, tau_ref=2., **neu_par)\n",
    "\n",
    "    # I neurons/interneurons\n",
    "    self.I = bp.dyn.LifRef(num_I, tau=10., R=0.05, tau_ref=1., **neu_par)\n",
    "\n",
    "    # poisson stimulus  # 'freqs' as bm.Variable\n",
    "    self.IA = bp.dyn.PoissonGroup(num_A, freqs=bm.Variable(bm.zeros(1)), sharding=[bm.sharding.NEU_AXIS])\n",
    "    self.IB = bp.dyn.PoissonGroup(num_B, freqs=bm.Variable(bm.zeros(1)), sharding=[bm.sharding.NEU_AXIS])\n",
    "\n",
    "    # noise neurons\n",
    "    self.noise_B = bp.dyn.PoissonGroup(num_B, freqs=poisson_freq, sharding=[bm.sharding.NEU_AXIS])\n",
    "    self.noise_A = bp.dyn.PoissonGroup(num_A, freqs=poisson_freq, sharding=[bm.sharding.NEU_AXIS])\n",
    "    self.noise_N = bp.dyn.PoissonGroup(num_N, freqs=poisson_freq, sharding=[bm.sharding.NEU_AXIS])\n",
    "    self.noise_I = bp.dyn.PoissonGroup(num_I, freqs=poisson_freq, sharding=[bm.sharding.NEU_AXIS])\n",
    "\n",
    "    # define external inputs\n",
    "    self.IA2A = ExpSyn(self.IA, self.A, 'one2one', None, g_ext2E_AMPA, tau=2., E=0.)\n",
    "    self.IB2B = ExpSyn(self.IB, self.B, 'one2one', None, g_ext2E_AMPA, tau=2., E=0.)\n",
    "\n",
    "    # define AMPA projections from N\n",
    "    self.N2B_AMPA = ExpSyn(self.N, self.B, 'all2all', 0.5, g_E2E_AMPA * w_neg, tau=2., E=0.)\n",
    "    self.N2A_AMPA = ExpSyn(self.N, self.A, 'all2all', 0.5, g_E2E_AMPA * w_neg, tau=2., E=0.)\n",
    "    self.N2N_AMPA = ExpSyn(self.N, self.N, 'all2all', 0.5, g_E2E_AMPA, tau=2., E=0.)\n",
    "    self.N2I_AMPA = ExpSyn(self.N, self.I, 'all2all', 0.5, g_E2I_AMPA, tau=2., E=0.)\n",
    "\n",
    "    # define NMDA projections from N\n",
    "    self.N2B_NMDA = NMDA(self.N, self.B, 'all2all', 0.5, g_E2E_NMDA * w_neg)\n",
    "    self.N2A_NMDA = NMDA(self.N, self.A, 'all2all', 0.5, g_E2E_NMDA * w_neg)\n",
    "    self.N2N_NMDA = NMDA(self.N, self.N, 'all2all', 0.5, g_E2E_NMDA)\n",
    "    self.N2I_NMDA = NMDA(self.N, self.I, 'all2all', 0.5, g_E2I_NMDA)\n",
    "\n",
    "    # define AMPA projections from B\n",
    "    self.B2B_AMPA = ExpSyn(self.B, self.B, 'all2all', 0.5, g_E2E_AMPA * w_pos, tau=2., E=0.)\n",
    "    self.B2A_AMPA = ExpSyn(self.B, self.A, 'all2all', 0.5, g_E2E_AMPA * w_neg, tau=2., E=0.)\n",
    "    self.B2N_AMPA = ExpSyn(self.B, self.N, 'all2all', 0.5, g_E2E_AMPA, tau=2., E=0.)\n",
    "    self.B2I_AMPA = ExpSyn(self.B, self.I, 'all2all', 0.5, g_E2I_AMPA, tau=2., E=0.)\n",
    "\n",
    "    # define NMDA projections from B\n",
    "    self.B2B_NMDA = NMDA(self.B, self.B, 'all2all', 0.5, g_E2E_NMDA * w_pos)\n",
    "    self.B2A_NMDA = NMDA(self.B, self.A, 'all2all', 0.5, g_E2E_NMDA * w_neg)\n",
    "    self.B2N_NMDA = NMDA(self.B, self.N, 'all2all', 0.5, g_E2E_NMDA)\n",
    "    self.B2I_NMDA = NMDA(self.B, self.I, 'all2all', 0.5, g_E2I_NMDA)\n",
    "\n",
    "    # define AMPA projections from A\n",
    "    self.A2B_AMPA = ExpSyn(self.A, self.B, 'all2all', 0.5, g_E2E_AMPA * w_neg, tau=2., E=0.)\n",
    "    self.A2A_AMPA = ExpSyn(self.A, self.A, 'all2all', 0.5, g_E2E_AMPA * w_pos, tau=2., E=0.)\n",
    "    self.A2N_AMPA = ExpSyn(self.A, self.N, 'all2all', 0.5, g_E2E_AMPA, tau=2., E=0.)\n",
    "    self.A2I_AMPA = ExpSyn(self.A, self.I, 'all2all', 0.5, g_E2I_AMPA, tau=2., E=0.)\n",
    "\n",
    "    # define NMDA projections from A\n",
    "    self.A2B_NMDA = NMDA(self.A, self.B, 'all2all', 0.5, g_E2E_NMDA * w_neg)\n",
    "    self.A2A_NMDA = NMDA(self.A, self.A, 'all2all', 0.5, g_E2E_NMDA * w_pos)\n",
    "    self.A2N_NMDA = NMDA(self.A, self.N, 'all2all', 0.5, g_E2E_NMDA)\n",
    "    self.A2I_NMDA = NMDA(self.A, self.I, 'all2all', 0.5, g_E2I_NMDA)\n",
    "\n",
    "    # define I->E/I conn\n",
    "    self.I2B = ExpSyn(self.I, self.B, 'all2all', 0.5, g_I2E_GABAa, tau=5., E=-70.)\n",
    "    self.I2A = ExpSyn(self.I, self.A, 'all2all', 0.5, g_I2E_GABAa, tau=5., E=-70.)\n",
    "    self.I2N = ExpSyn(self.I, self.N, 'all2all', 0.5, g_I2E_GABAa, tau=5., E=-70.)\n",
    "    self.I2I = ExpSyn(self.I, self.I, 'all2all', 0.5, g_I2I_GABAa, tau=5., E=-70.)\n",
    "\n",
    "    # define external projections\n",
    "    self.noise2B = ExpSyn(self.noise_B, self.B, 'one2one', None, g_ext2E_AMPA, tau=2., E=0.)\n",
    "    self.noise2A = ExpSyn(self.noise_A, self.A, 'one2one', None, g_ext2E_AMPA, tau=2., E=0.)\n",
    "    self.noise2N = ExpSyn(self.noise_N, self.N, 'one2one', None, g_ext2E_AMPA, tau=2., E=0.)\n",
    "    self.noise2I = ExpSyn(self.noise_I, self.I, 'one2one', None, g_ext2I_AMPA, tau=2., E=0.)"
   ],
   "metadata": {
    "execution": {
     "iopub.status.busy": "2023-09-18T08:29:43.604810Z",
     "iopub.execute_input": "2023-09-18T08:29:43.605139Z",
     "iopub.status.idle": "2023-09-18T08:29:43.645289Z",
     "shell.execute_reply.started": "2023-09-18T08:29:43.605112Z",
     "shell.execute_reply": "2023-09-18T08:29:43.644314Z"
    },
    "trusted": true
   },
   "execution_count": 10,
   "outputs": []
  },
  {
   "cell_type": "code",
   "source": [
    "def run_a_simulation(scale):\n",
    "  # simulation tools\n",
    "  pre_stimulus_period = 100.  # time before the external simuli are given\n",
    "  stimulus_period = 1000.  # time within which the external simuli are given\n",
    "  delay_period = 500.  # time after the external simuli are removed\n",
    "  tool = Tool(pre_stimulus_period, stimulus_period, delay_period)\n",
    "\n",
    "  # stimulus\n",
    "  mu0 = 40.\n",
    "  coherence = 25.6\n",
    "  IA_freqs = tool.generate_freqs(mu0 + mu0 / 100. * coherence)\n",
    "  IB_freqs = tool.generate_freqs(mu0 - mu0 / 100. * coherence)\n",
    "\n",
    "  # network\n",
    "  net = DecisionMakingNet(scale)\n",
    "\n",
    "  def run(i):\n",
    "    bp.share.save(i=i, t=bm.get_dt() * i)\n",
    "    net.IA.freqs.value = IA_freqs[i]\n",
    "    net.IB.freqs.value = IB_freqs[i]\n",
    "    net.update()\n",
    "    return {'A.spike': net.A.spike.value, 'B.spike': net.B.spike.value}\n",
    "\n",
    "  # running\n",
    "  indices = np.arange(int(tool.total_period / bm.get_dt()))\n",
    "  mon = bm.for_loop(run, indices)\n",
    "  mon['ts'] = indices * bm.get_dt()\n",
    "  tool.visualize_results(mon, IA_freqs, IB_freqs)\n"
   ],
   "metadata": {
    "execution": {
     "iopub.status.busy": "2023-09-18T08:29:43.646347Z",
     "iopub.execute_input": "2023-09-18T08:29:43.646652Z",
     "iopub.status.idle": "2023-09-18T08:29:43.661090Z",
     "shell.execute_reply.started": "2023-09-18T08:29:43.646628Z",
     "shell.execute_reply": "2023-09-18T08:29:43.660164Z"
    },
    "trusted": true
   },
   "execution_count": 11,
   "outputs": []
  },
  {
   "cell_type": "code",
   "source": [
    "def simulate_a_trial(scale, platform='cpu', x64=False, monitor=True):\n",
    "  bm.set_platform(platform)\n",
    "  bm.random.seed()\n",
    "  if x64:\n",
    "    bm.enable_x64()\n",
    "\n",
    "  # simulation tools\n",
    "  pre_stimulus_period = 100.  # time before the external simuli are given\n",
    "  stimulus_period = 1000.  # time within which the external simuli are given\n",
    "  delay_period = 500.  # time after the external simuli are removed\n",
    "  tool = Tool(pre_stimulus_period, stimulus_period, delay_period)\n",
    "\n",
    "  # stimulus\n",
    "  mu0 = 40.\n",
    "  coherence = 25.6\n",
    "  IA_freqs = tool.generate_freqs(mu0 + mu0 / 100. * coherence)\n",
    "  IB_freqs = tool.generate_freqs(mu0 - mu0 / 100. * coherence)\n",
    "\n",
    "  # network\n",
    "  net = DecisionMakingNet(scale)\n",
    "\n",
    "  def run(i):\n",
    "    bp.share.save(i=i, t=bm.get_dt() * i)\n",
    "    net.IA.freqs.value = IA_freqs[i]\n",
    "    net.IB.freqs.value = IB_freqs[i]\n",
    "    net.update()\n",
    "    if monitor:\n",
    "      return {'A.spike': net.A.spike.value, 'B.spike': net.B.spike.value}\n",
    "\n",
    "  @bm.jit\n",
    "  def jit_run(indices):\n",
    "    return bm.for_loop(run, indices)\n",
    "\n",
    "  # first running\n",
    "  n_step = int(tool.total_period / bm.get_dt())\n",
    "  indices = np.arange(n_step)\n",
    "#   net.reset_state()\n",
    "  t0 = time.time()\n",
    "  mon = jax.block_until_ready(jit_run(indices))\n",
    "  t1 = time.time()\n",
    "\n",
    "#   # second running\n",
    "#   net.reset_state()\n",
    "#   t2 = time.time()\n",
    "#   mon = jax.block_until_ready(jit_run(indices))\n",
    "#   t3 = time.time()\n",
    "\n",
    "  # mon['ts'] = indices * bm.get_dt()\n",
    "  # tool.visualize_results(mon, IA_freqs, IB_freqs)\n",
    "\n",
    "  print(f'platform = {platform}, x64 = {x64}, scale = {scale}, '\n",
    "        f'first run = {t1 - t0} s')\n",
    "\n",
    "  # post\n",
    "  bm.disable_x64()\n",
    "  bm.clear_buffer_memory(platform)\n",
    "  return {'num': net.num,\n",
    "          'exe_time': t1 - t0,\n",
    "          'run_time': t1 - t0,\n",
    "          # 'fr': rate\n",
    "          }"
   ],
   "metadata": {
    "execution": {
     "iopub.status.busy": "2023-09-18T08:29:43.662317Z",
     "iopub.execute_input": "2023-09-18T08:29:43.662599Z",
     "iopub.status.idle": "2023-09-18T08:29:43.676215Z",
     "shell.execute_reply.started": "2023-09-18T08:29:43.662575Z",
     "shell.execute_reply": "2023-09-18T08:29:43.675216Z"
    },
    "trusted": true
   },
   "execution_count": 12,
   "outputs": []
  },
  {
   "cell_type": "code",
   "source": [
    "def benchmark(devices, platform='cpu', x64=True):\n",
    "    for scale in [1, 4, 8, 10, 20, 40, 60, 80, 100]:  # \n",
    "        res = {'exetime': [], 'runtime': []}\n",
    "        for _ in range(10):\n",
    "            with bm.sharding.device_mesh(devices, [bm.sharding.NEU_AXIS]):\n",
    "                r = simulate_a_trial(scale=scale, platform=platform, x64=x64, monitor=True)\n",
    "            res['exetime'].append(r['exe_time'])\n",
    "            res['runtime'].append(r['run_time'])\n",
    "        print(f'Scale = {scale}:')\n",
    "        pprint(res)"
   ],
   "metadata": {
    "execution": {
     "iopub.status.busy": "2023-09-18T08:29:43.677396Z",
     "iopub.execute_input": "2023-09-18T08:29:43.677676Z",
     "iopub.status.idle": "2023-09-18T08:29:43.690998Z",
     "shell.execute_reply.started": "2023-09-18T08:29:43.677652Z",
     "shell.execute_reply": "2023-09-18T08:29:43.690112Z"
    },
    "trusted": true
   },
   "execution_count": 13,
   "outputs": []
  },
  {
   "cell_type": "markdown",
   "source": [
    "# 8 devices"
   ],
   "metadata": {}
  },
  {
   "cell_type": "code",
   "source": [
    "benchmark(jax.devices(), platform='tpu', x64=False)"
   ],
   "metadata": {
    "execution": {
     "iopub.status.busy": "2023-09-14T05:56:51.844495Z",
     "iopub.execute_input": "2023-09-14T05:56:51.845195Z",
     "iopub.status.idle": "2023-09-14T06:20:03.022773Z",
     "shell.execute_reply.started": "2023-09-14T05:56:51.845150Z",
     "shell.execute_reply": "2023-09-14T06:20:03.021052Z"
    },
    "trusted": true
   },
   "execution_count": 15,
   "outputs": [
    {
     "name": "stdout",
     "text": "platform = tpu, x64 = False, scale = 1, first run = 14.618347406387329 s\nplatform = tpu, x64 = False, scale = 1, first run = 14.200562238693237 s\nplatform = tpu, x64 = False, scale = 1, first run = 14.191334247589111 s\nplatform = tpu, x64 = False, scale = 1, first run = 14.406397819519043 s\nplatform = tpu, x64 = False, scale = 1, first run = 14.399168491363525 s\nplatform = tpu, x64 = False, scale = 1, first run = 14.504820346832275 s\nplatform = tpu, x64 = False, scale = 1, first run = 14.53603482246399 s\nplatform = tpu, x64 = False, scale = 1, first run = 14.44247055053711 s\nplatform = tpu, x64 = False, scale = 1, first run = 14.480181217193604 s\nplatform = tpu, x64 = False, scale = 1, first run = 14.6030113697052 s\nScale = 1:\n{'exetime': [14.618347406387329,\n             14.200562238693237,\n             14.191334247589111,\n             14.406397819519043,\n             14.399168491363525,\n             14.504820346832275,\n             14.53603482246399,\n             14.44247055053711,\n             14.480181217193604,\n             14.6030113697052],\n 'runtime': [14.618347406387329,\n             14.200562238693237,\n             14.191334247589111,\n             14.406397819519043,\n             14.399168491363525,\n             14.504820346832275,\n             14.53603482246399,\n             14.44247055053711,\n             14.480181217193604,\n             14.6030113697052]}\nplatform = tpu, x64 = False, scale = 4, first run = 14.330907583236694 s\nplatform = tpu, x64 = False, scale = 4, first run = 14.390852928161621 s\nplatform = tpu, x64 = False, scale = 4, first run = 14.398420333862305 s\nplatform = tpu, x64 = False, scale = 4, first run = 14.372851610183716 s\nplatform = tpu, x64 = False, scale = 4, first run = 14.477794885635376 s\nplatform = tpu, x64 = False, scale = 4, first run = 14.439493894577026 s\nplatform = tpu, x64 = False, scale = 4, first run = 14.718290328979492 s\nplatform = tpu, x64 = False, scale = 4, first run = 14.803724527359009 s\nplatform = tpu, x64 = False, scale = 4, first run = 14.4752037525177 s\nplatform = tpu, x64 = False, scale = 4, first run = 14.650315046310425 s\nScale = 4:\n{'exetime': [14.330907583236694,\n             14.390852928161621,\n             14.398420333862305,\n             14.372851610183716,\n             14.477794885635376,\n             14.439493894577026,\n             14.718290328979492,\n             14.803724527359009,\n             14.4752037525177,\n             14.650315046310425],\n 'runtime': [14.330907583236694,\n             14.390852928161621,\n             14.398420333862305,\n             14.372851610183716,\n             14.477794885635376,\n             14.439493894577026,\n             14.718290328979492,\n             14.803724527359009,\n             14.4752037525177,\n             14.650315046310425]}\nplatform = tpu, x64 = False, scale = 8, first run = 14.502232551574707 s\nplatform = tpu, x64 = False, scale = 8, first run = 14.674661636352539 s\nplatform = tpu, x64 = False, scale = 8, first run = 14.622987985610962 s\nplatform = tpu, x64 = False, scale = 8, first run = 14.820289850234985 s\nplatform = tpu, x64 = False, scale = 8, first run = 14.68695592880249 s\nplatform = tpu, x64 = False, scale = 8, first run = 14.872450590133667 s\nplatform = tpu, x64 = False, scale = 8, first run = 14.617456197738647 s\nplatform = tpu, x64 = False, scale = 8, first run = 14.872934818267822 s\nplatform = tpu, x64 = False, scale = 8, first run = 14.846278667449951 s\nplatform = tpu, x64 = False, scale = 8, first run = 14.979769706726074 s\nScale = 8:\n{'exetime': [14.502232551574707,\n             14.674661636352539,\n             14.622987985610962,\n             14.820289850234985,\n             14.68695592880249,\n             14.872450590133667,\n             14.617456197738647,\n             14.872934818267822,\n             14.846278667449951,\n             14.979769706726074],\n 'runtime': [14.502232551574707,\n             14.674661636352539,\n             14.622987985610962,\n             14.820289850234985,\n             14.68695592880249,\n             14.872450590133667,\n             14.617456197738647,\n             14.872934818267822,\n             14.846278667449951,\n             14.979769706726074]}\nplatform = tpu, x64 = False, scale = 10, first run = 14.744375944137573 s\nplatform = tpu, x64 = False, scale = 10, first run = 14.960837841033936 s\nplatform = tpu, x64 = False, scale = 10, first run = 14.820426940917969 s\nplatform = tpu, x64 = False, scale = 10, first run = 14.765064716339111 s\nplatform = tpu, x64 = False, scale = 10, first run = 15.146363973617554 s\nplatform = tpu, x64 = False, scale = 10, first run = 14.859668731689453 s\nplatform = tpu, x64 = False, scale = 10, first run = 15.210551977157593 s\nplatform = tpu, x64 = False, scale = 10, first run = 14.864146709442139 s\nplatform = tpu, x64 = False, scale = 10, first run = 14.813257217407227 s\nplatform = tpu, x64 = False, scale = 10, first run = 15.153027772903442 s\nScale = 10:\n{'exetime': [14.744375944137573,\n             14.960837841033936,\n             14.820426940917969,\n             14.765064716339111,\n             15.146363973617554,\n             14.859668731689453,\n             15.210551977157593,\n             14.864146709442139,\n             14.813257217407227,\n             15.153027772903442],\n 'runtime': [14.744375944137573,\n             14.960837841033936,\n             14.820426940917969,\n             14.765064716339111,\n             15.146363973617554,\n             14.859668731689453,\n             15.210551977157593,\n             14.864146709442139,\n             14.813257217407227,\n             15.153027772903442]}\nplatform = tpu, x64 = False, scale = 20, first run = 15.00963830947876 s\nplatform = tpu, x64 = False, scale = 20, first run = 14.852466821670532 s\nplatform = tpu, x64 = False, scale = 20, first run = 15.219034671783447 s\nplatform = tpu, x64 = False, scale = 20, first run = 15.05008578300476 s\nplatform = tpu, x64 = False, scale = 20, first run = 15.123308181762695 s\nplatform = tpu, x64 = False, scale = 20, first run = 15.468648672103882 s\nplatform = tpu, x64 = False, scale = 20, first run = 15.069955348968506 s\nplatform = tpu, x64 = False, scale = 20, first run = 15.09400224685669 s\nplatform = tpu, x64 = False, scale = 20, first run = 15.424578428268433 s\nplatform = tpu, x64 = False, scale = 20, first run = 15.12225341796875 s\nScale = 20:\n{'exetime': [15.00963830947876,\n             14.852466821670532,\n             15.219034671783447,\n             15.05008578300476,\n             15.123308181762695,\n             15.468648672103882,\n             15.069955348968506,\n             15.09400224685669,\n             15.424578428268433,\n             15.12225341796875],\n 'runtime': [15.00963830947876,\n             14.852466821670532,\n             15.219034671783447,\n             15.05008578300476,\n             15.123308181762695,\n             15.468648672103882,\n             15.069955348968506,\n             15.09400224685669,\n             15.424578428268433,\n             15.12225341796875]}\nplatform = tpu, x64 = False, scale = 40, first run = 15.828009843826294 s\nplatform = tpu, x64 = False, scale = 40, first run = 15.395631313323975 s\nplatform = tpu, x64 = False, scale = 40, first run = 15.282962799072266 s\nplatform = tpu, x64 = False, scale = 40, first run = 15.398285627365112 s\nplatform = tpu, x64 = False, scale = 40, first run = 15.83279538154602 s\nplatform = tpu, x64 = False, scale = 40, first run = 15.420575857162476 s\nplatform = tpu, x64 = False, scale = 40, first run = 15.509742021560669 s\nplatform = tpu, x64 = False, scale = 40, first run = 15.916258096694946 s\nplatform = tpu, x64 = False, scale = 40, first run = 15.579051971435547 s\nplatform = tpu, x64 = False, scale = 40, first run = 15.49236273765564 s\nScale = 40:\n{'exetime': [15.828009843826294,\n             15.395631313323975,\n             15.282962799072266,\n             15.398285627365112,\n             15.83279538154602,\n             15.420575857162476,\n             15.509742021560669,\n             15.916258096694946,\n             15.579051971435547,\n             15.49236273765564],\n 'runtime': [15.828009843826294,\n             15.395631313323975,\n             15.282962799072266,\n             15.398285627365112,\n             15.83279538154602,\n             15.420575857162476,\n             15.509742021560669,\n             15.916258096694946,\n             15.579051971435547,\n             15.49236273765564]}\nplatform = tpu, x64 = False, scale = 60, first run = 16.07183289527893 s\nplatform = tpu, x64 = False, scale = 60, first run = 15.469689846038818 s\nplatform = tpu, x64 = False, scale = 60, first run = 15.571549654006958 s\nplatform = tpu, x64 = False, scale = 60, first run = 15.571974515914917 s\nplatform = tpu, x64 = False, scale = 60, first run = 15.950752973556519 s\nplatform = tpu, x64 = False, scale = 60, first run = 15.660284042358398 s\nplatform = tpu, x64 = False, scale = 60, first run = 15.64308476448059 s\nplatform = tpu, x64 = False, scale = 60, first run = 15.667573928833008 s\nplatform = tpu, x64 = False, scale = 60, first run = 16.349807739257812 s\nplatform = tpu, x64 = False, scale = 60, first run = 15.77289080619812 s\nScale = 60:\n{'exetime': [16.07183289527893,\n             15.469689846038818,\n             15.571549654006958,\n             15.571974515914917,\n             15.950752973556519,\n             15.660284042358398,\n             15.64308476448059,\n             15.667573928833008,\n             16.349807739257812,\n             15.77289080619812],\n 'runtime': [16.07183289527893,\n             15.469689846038818,\n             15.571549654006958,\n             15.571974515914917,\n             15.950752973556519,\n             15.660284042358398,\n             15.64308476448059,\n             15.667573928833008,\n             16.349807739257812,\n             15.77289080619812]}\nplatform = tpu, x64 = False, scale = 80, first run = 15.63825249671936 s\nplatform = tpu, x64 = False, scale = 80, first run = 15.66871953010559 s\nplatform = tpu, x64 = False, scale = 80, first run = 16.437960624694824 s\nplatform = tpu, x64 = False, scale = 80, first run = 15.648468017578125 s\nplatform = tpu, x64 = False, scale = 80, first run = 15.825490236282349 s\nplatform = tpu, x64 = False, scale = 80, first run = 15.797135353088379 s\nplatform = tpu, x64 = False, scale = 80, first run = 16.584667205810547 s\nplatform = tpu, x64 = False, scale = 80, first run = 15.752958536148071 s\nplatform = tpu, x64 = False, scale = 80, first run = 15.783049821853638 s\nplatform = tpu, x64 = False, scale = 80, first run = 15.848836660385132 s\nScale = 80:\n{'exetime': [15.63825249671936,\n             15.66871953010559,\n             16.437960624694824,\n             15.648468017578125,\n             15.825490236282349,\n             15.797135353088379,\n             16.584667205810547,\n             15.752958536148071,\n             15.783049821853638,\n             15.848836660385132],\n 'runtime': [15.63825249671936,\n             15.66871953010559,\n             16.437960624694824,\n             15.648468017578125,\n             15.825490236282349,\n             15.797135353088379,\n             16.584667205810547,\n             15.752958536148071,\n             15.783049821853638,\n             15.848836660385132]}\nplatform = tpu, x64 = False, scale = 100, first run = 16.009425163269043 s\nplatform = tpu, x64 = False, scale = 100, first run = 15.923998832702637 s\nplatform = tpu, x64 = False, scale = 100, first run = 15.914631366729736 s\nplatform = tpu, x64 = False, scale = 100, first run = 15.951678991317749 s\nplatform = tpu, x64 = False, scale = 100, first run = 15.97331690788269 s\nplatform = tpu, x64 = False, scale = 100, first run = 16.83946681022644 s\nplatform = tpu, x64 = False, scale = 100, first run = 16.030898571014404 s\nplatform = tpu, x64 = False, scale = 100, first run = 16.085273027420044 s\nplatform = tpu, x64 = False, scale = 100, first run = 16.04415273666382 s\nplatform = tpu, x64 = False, scale = 100, first run = 16.851016521453857 s\nScale = 100:\n{'exetime': [16.009425163269043,\n             15.923998832702637,\n             15.914631366729736,\n             15.951678991317749,\n             15.97331690788269,\n             16.83946681022644,\n             16.030898571014404,\n             16.085273027420044,\n             16.04415273666382,\n             16.851016521453857],\n 'runtime': [16.009425163269043,\n             15.923998832702637,\n             15.914631366729736,\n             15.951678991317749,\n             15.97331690788269,\n             16.83946681022644,\n             16.030898571014404,\n             16.085273027420044,\n             16.04415273666382,\n             16.851016521453857]}\n",
     "output_type": "stream"
    }
   ]
  },
  {
   "cell_type": "code",
   "source": [
    "def benchmark2(devices, scales, platform='cpu', x64=True):\n",
    "    final_results = dict()\n",
    "    for scale in scales:  # \n",
    "        res = {'exetime': [], 'runtime': []}\n",
    "        for _ in range(10):\n",
    "            with bm.sharding.device_mesh(devices, [bm.sharding.NEU_AXIS]):\n",
    "                r = simulate_a_trial(scale=scale, platform=platform, x64=x64, monitor=True)\n",
    "            res['exetime'].append(r['exe_time'])\n",
    "            res['runtime'].append(r['run_time'])\n",
    "        print(f'Scale = {scale}:')\n",
    "        pprint(res)"
   ],
   "metadata": {
    "execution": {
     "iopub.status.busy": "2023-09-18T09:27:05.759484Z",
     "iopub.execute_input": "2023-09-18T09:27:05.760350Z",
     "iopub.status.idle": "2023-09-18T09:27:05.768138Z",
     "shell.execute_reply.started": "2023-09-18T09:27:05.760311Z",
     "shell.execute_reply": "2023-09-18T09:27:05.766797Z"
    },
    "trusted": true
   },
   "execution_count": 16,
   "outputs": []
  },
  {
   "cell_type": "code",
   "source": [
    "benchmark2(jax.devices(), [200, 400, 800, 1000], platform='tpu', x64=False)"
   ],
   "metadata": {
    "execution": {
     "iopub.status.busy": "2023-09-14T06:29:38.088429Z",
     "iopub.execute_input": "2023-09-14T06:29:38.088806Z",
     "iopub.status.idle": "2023-09-14T06:43:55.946851Z",
     "shell.execute_reply.started": "2023-09-14T06:29:38.088777Z",
     "shell.execute_reply": "2023-09-14T06:43:55.945297Z"
    },
    "trusted": true
   },
   "execution_count": 19,
   "outputs": [
    {
     "name": "stdout",
     "text": "platform = tpu, x64 = False, scale = 200, first run = 17.05660915374756 s\nplatform = tpu, x64 = False, scale = 200, first run = 17.01578426361084 s\nplatform = tpu, x64 = False, scale = 200, first run = 17.0588960647583 s\nplatform = tpu, x64 = False, scale = 200, first run = 17.122342348098755 s\nplatform = tpu, x64 = False, scale = 200, first run = 18.164459466934204 s\nplatform = tpu, x64 = False, scale = 200, first run = 17.087402820587158 s\nplatform = tpu, x64 = False, scale = 200, first run = 17.13105869293213 s\nplatform = tpu, x64 = False, scale = 200, first run = 17.09291696548462 s\nplatform = tpu, x64 = False, scale = 200, first run = 17.226580381393433 s\nplatform = tpu, x64 = False, scale = 200, first run = 18.08594560623169 s\nScale = 200:\n{'exetime': [17.05660915374756,\n             17.01578426361084,\n             17.0588960647583,\n             17.122342348098755,\n             18.164459466934204,\n             17.087402820587158,\n             17.13105869293213,\n             17.09291696548462,\n             17.226580381393433,\n             18.08594560623169],\n 'runtime': [17.05660915374756,\n             17.01578426361084,\n             17.0588960647583,\n             17.122342348098755,\n             18.164459466934204,\n             17.087402820587158,\n             17.13105869293213,\n             17.09291696548462,\n             17.226580381393433,\n             18.08594560623169]}\nplatform = tpu, x64 = False, scale = 400, first run = 18.864654541015625 s\nplatform = tpu, x64 = False, scale = 400, first run = 18.64415168762207 s\nplatform = tpu, x64 = False, scale = 400, first run = 18.71621561050415 s\nplatform = tpu, x64 = False, scale = 400, first run = 18.745258331298828 s\nplatform = tpu, x64 = False, scale = 400, first run = 19.72253942489624 s\nplatform = tpu, x64 = False, scale = 400, first run = 18.780519008636475 s\nplatform = tpu, x64 = False, scale = 400, first run = 18.82777976989746 s\nplatform = tpu, x64 = False, scale = 400, first run = 18.933124780654907 s\nplatform = tpu, x64 = False, scale = 400, first run = 18.856292247772217 s\nplatform = tpu, x64 = False, scale = 400, first run = 18.84035563468933 s\nScale = 400:\n{'exetime': [18.864654541015625,\n             18.64415168762207,\n             18.71621561050415,\n             18.745258331298828,\n             19.72253942489624,\n             18.780519008636475,\n             18.82777976989746,\n             18.933124780654907,\n             18.856292247772217,\n             18.84035563468933],\n 'runtime': [18.864654541015625,\n             18.64415168762207,\n             18.71621561050415,\n             18.745258331298828,\n             19.72253942489624,\n             18.780519008636475,\n             18.82777976989746,\n             18.933124780654907,\n             18.856292247772217,\n             18.84035563468933]}\nplatform = tpu, x64 = False, scale = 800, first run = 23.183600187301636 s\nplatform = tpu, x64 = False, scale = 800, first run = 23.107205152511597 s\nplatform = tpu, x64 = False, scale = 800, first run = 23.014403343200684 s\nplatform = tpu, x64 = False, scale = 800, first run = 22.601304292678833 s\nplatform = tpu, x64 = False, scale = 800, first run = 22.25759983062744 s\nplatform = tpu, x64 = False, scale = 800, first run = 23.183324337005615 s\nplatform = tpu, x64 = False, scale = 800, first run = 24.22468113899231 s\nplatform = tpu, x64 = False, scale = 800, first run = 22.47458243370056 s\nplatform = tpu, x64 = False, scale = 800, first run = 22.58682155609131 s\nplatform = tpu, x64 = False, scale = 800, first run = 23.058321714401245 s\nScale = 800:\n{'exetime': [23.183600187301636,\n             23.107205152511597,\n             23.014403343200684,\n             22.601304292678833,\n             22.25759983062744,\n             23.183324337005615,\n             24.22468113899231,\n             22.47458243370056,\n             22.58682155609131,\n             23.058321714401245],\n 'runtime': [23.183600187301636,\n             23.107205152511597,\n             23.014403343200684,\n             22.601304292678833,\n             22.25759983062744,\n             23.183324337005615,\n             24.22468113899231,\n             22.47458243370056,\n             22.58682155609131,\n             23.058321714401245]}\nplatform = tpu, x64 = False, scale = 1000, first run = 25.292062520980835 s\nplatform = tpu, x64 = False, scale = 1000, first run = 25.193024158477783 s\nplatform = tpu, x64 = False, scale = 1000, first run = 26.17633628845215 s\nplatform = tpu, x64 = False, scale = 1000, first run = 25.319664478302002 s\nplatform = tpu, x64 = False, scale = 1000, first run = 25.413726806640625 s\nplatform = tpu, x64 = False, scale = 1000, first run = 25.331863164901733 s\nplatform = tpu, x64 = False, scale = 1000, first run = 25.36849546432495 s\nplatform = tpu, x64 = False, scale = 1000, first run = 25.430440187454224 s\nplatform = tpu, x64 = False, scale = 1000, first run = 26.27809453010559 s\nplatform = tpu, x64 = False, scale = 1000, first run = 25.374317169189453 s\nScale = 1000:\n{'exetime': [25.292062520980835,\n             25.193024158477783,\n             26.17633628845215,\n             25.319664478302002,\n             25.413726806640625,\n             25.331863164901733,\n             25.36849546432495,\n             25.430440187454224,\n             26.27809453010559,\n             25.374317169189453],\n 'runtime': [25.292062520980835,\n             25.193024158477783,\n             26.17633628845215,\n             25.319664478302002,\n             25.413726806640625,\n             25.331863164901733,\n             25.36849546432495,\n             25.430440187454224,\n             26.27809453010559,\n             25.374317169189453]}\n",
     "output_type": "stream"
    }
   ]
  },
  {
   "cell_type": "code",
   "source": [
    "benchmark(jax.devices(), platform='tpu', x64=True)"
   ],
   "metadata": {
    "execution": {
     "iopub.status.busy": "2023-09-18T08:29:43.692118Z",
     "iopub.execute_input": "2023-09-18T08:29:43.692399Z",
     "iopub.status.idle": "2023-09-18T09:21:45.656282Z",
     "shell.execute_reply.started": "2023-09-18T08:29:43.692377Z",
     "shell.execute_reply": "2023-09-18T09:21:45.654785Z"
    },
    "trusted": true
   },
   "execution_count": 14,
   "outputs": [
    {
     "name": "stdout",
     "text": "platform = tpu, x64 = True, scale = 1, first run = 27.850502014160156 s\nplatform = tpu, x64 = True, scale = 1, first run = 29.47843337059021 s\nplatform = tpu, x64 = True, scale = 1, first run = 30.392443895339966 s\nplatform = tpu, x64 = True, scale = 1, first run = 30.546841859817505 s\nplatform = tpu, x64 = True, scale = 1, first run = 30.813852310180664 s\nplatform = tpu, x64 = True, scale = 1, first run = 30.806926250457764 s\nplatform = tpu, x64 = True, scale = 1, first run = 31.28420639038086 s\nplatform = tpu, x64 = True, scale = 1, first run = 31.52595543861389 s\nplatform = tpu, x64 = True, scale = 1, first run = 31.42830181121826 s\nplatform = tpu, x64 = True, scale = 1, first run = 31.265384197235107 s\nScale = 1:\n{'exetime': [27.850502014160156,\n             29.47843337059021,\n             30.392443895339966,\n             30.546841859817505,\n             30.813852310180664,\n             30.806926250457764,\n             31.28420639038086,\n             31.52595543861389,\n             31.42830181121826,\n             31.265384197235107],\n 'runtime': [27.850502014160156,\n             29.47843337059021,\n             30.392443895339966,\n             30.546841859817505,\n             30.813852310180664,\n             30.806926250457764,\n             31.28420639038086,\n             31.52595543861389,\n             31.42830181121826,\n             31.265384197235107]}\nplatform = tpu, x64 = True, scale = 4, first run = 30.868417978286743 s\nplatform = tpu, x64 = True, scale = 4, first run = 31.699738025665283 s\nplatform = tpu, x64 = True, scale = 4, first run = 31.450642824172974 s\nplatform = tpu, x64 = True, scale = 4, first run = 31.65964913368225 s\nplatform = tpu, x64 = True, scale = 4, first run = 31.75903582572937 s\nplatform = tpu, x64 = True, scale = 4, first run = 31.480356693267822 s\nplatform = tpu, x64 = True, scale = 4, first run = 31.818042993545532 s\nplatform = tpu, x64 = True, scale = 4, first run = 31.966788053512573 s\nplatform = tpu, x64 = True, scale = 4, first run = 32.18901705741882 s\nplatform = tpu, x64 = True, scale = 4, first run = 32.50663876533508 s\nScale = 4:\n{'exetime': [30.868417978286743,\n             31.699738025665283,\n             31.450642824172974,\n             31.65964913368225,\n             31.75903582572937,\n             31.480356693267822,\n             31.818042993545532,\n             31.966788053512573,\n             32.18901705741882,\n             32.50663876533508],\n 'runtime': [30.868417978286743,\n             31.699738025665283,\n             31.450642824172974,\n             31.65964913368225,\n             31.75903582572937,\n             31.480356693267822,\n             31.818042993545532,\n             31.966788053512573,\n             32.18901705741882,\n             32.50663876533508]}\nplatform = tpu, x64 = True, scale = 8, first run = 31.632561922073364 s\nplatform = tpu, x64 = True, scale = 8, first run = 32.30416488647461 s\nplatform = tpu, x64 = True, scale = 8, first run = 32.1913058757782 s\nplatform = tpu, x64 = True, scale = 8, first run = 32.23980355262756 s\nplatform = tpu, x64 = True, scale = 8, first run = 32.66646862030029 s\nplatform = tpu, x64 = True, scale = 8, first run = 32.42953538894653 s\nplatform = tpu, x64 = True, scale = 8, first run = 32.65408515930176 s\nplatform = tpu, x64 = True, scale = 8, first run = 32.66300678253174 s\nplatform = tpu, x64 = True, scale = 8, first run = 33.351189613342285 s\nplatform = tpu, x64 = True, scale = 8, first run = 33.06997895240784 s\nScale = 8:\n{'exetime': [31.632561922073364,\n             32.30416488647461,\n             32.1913058757782,\n             32.23980355262756,\n             32.66646862030029,\n             32.42953538894653,\n             32.65408515930176,\n             32.66300678253174,\n             33.351189613342285,\n             33.06997895240784],\n 'runtime': [31.632561922073364,\n             32.30416488647461,\n             32.1913058757782,\n             32.23980355262756,\n             32.66646862030029,\n             32.42953538894653,\n             32.65408515930176,\n             32.66300678253174,\n             33.351189613342285,\n             33.06997895240784]}\nplatform = tpu, x64 = True, scale = 10, first run = 32.073988914489746 s\nplatform = tpu, x64 = True, scale = 10, first run = 32.035988569259644 s\nplatform = tpu, x64 = True, scale = 10, first run = 31.81253170967102 s\nplatform = tpu, x64 = True, scale = 10, first run = 31.99169397354126 s\nplatform = tpu, x64 = True, scale = 10, first run = 32.79985690116882 s\nplatform = tpu, x64 = True, scale = 10, first run = 32.92243933677673 s\nplatform = tpu, x64 = True, scale = 10, first run = 33.06078577041626 s\nplatform = tpu, x64 = True, scale = 10, first run = 33.731456995010376 s\nplatform = tpu, x64 = True, scale = 10, first run = 34.39340257644653 s\nplatform = tpu, x64 = True, scale = 10, first run = 33.052417278289795 s\nScale = 10:\n{'exetime': [32.073988914489746,\n             32.035988569259644,\n             31.81253170967102,\n             31.99169397354126,\n             32.79985690116882,\n             32.92243933677673,\n             33.06078577041626,\n             33.731456995010376,\n             34.39340257644653,\n             33.052417278289795],\n 'runtime': [32.073988914489746,\n             32.035988569259644,\n             31.81253170967102,\n             31.99169397354126,\n             32.79985690116882,\n             32.92243933677673,\n             33.06078577041626,\n             33.731456995010376,\n             34.39340257644653,\n             33.052417278289795]}\nplatform = tpu, x64 = True, scale = 20, first run = 33.28670859336853 s\nplatform = tpu, x64 = True, scale = 20, first run = 34.26548171043396 s\nplatform = tpu, x64 = True, scale = 20, first run = 33.28726100921631 s\nplatform = tpu, x64 = True, scale = 20, first run = 33.77921938896179 s\nplatform = tpu, x64 = True, scale = 20, first run = 33.25018811225891 s\nplatform = tpu, x64 = True, scale = 20, first run = 33.40088081359863 s\nplatform = tpu, x64 = True, scale = 20, first run = 34.61544919013977 s\nplatform = tpu, x64 = True, scale = 20, first run = 35.082271337509155 s\nplatform = tpu, x64 = True, scale = 20, first run = 34.624967098236084 s\nplatform = tpu, x64 = True, scale = 20, first run = 34.592788219451904 s\nScale = 20:\n{'exetime': [33.28670859336853,\n             34.26548171043396,\n             33.28726100921631,\n             33.77921938896179,\n             33.25018811225891,\n             33.40088081359863,\n             34.61544919013977,\n             35.082271337509155,\n             34.624967098236084,\n             34.592788219451904],\n 'runtime': [33.28670859336853,\n             34.26548171043396,\n             33.28726100921631,\n             33.77921938896179,\n             33.25018811225891,\n             33.40088081359863,\n             34.61544919013977,\n             35.082271337509155,\n             34.624967098236084,\n             34.592788219451904]}\nplatform = tpu, x64 = True, scale = 40, first run = 33.52152156829834 s\nplatform = tpu, x64 = True, scale = 40, first run = 34.17901277542114 s\nplatform = tpu, x64 = True, scale = 40, first run = 35.85486888885498 s\nplatform = tpu, x64 = True, scale = 40, first run = 34.622602462768555 s\nplatform = tpu, x64 = True, scale = 40, first run = 38.31221532821655 s\nplatform = tpu, x64 = True, scale = 40, first run = 38.46377420425415 s\nplatform = tpu, x64 = True, scale = 40, first run = 37.18116521835327 s\nplatform = tpu, x64 = True, scale = 40, first run = 38.128228187561035 s\nplatform = tpu, x64 = True, scale = 40, first run = 37.955602407455444 s\nplatform = tpu, x64 = True, scale = 40, first run = 36.940114974975586 s\nScale = 40:\n{'exetime': [33.52152156829834,\n             34.17901277542114,\n             35.85486888885498,\n             34.622602462768555,\n             38.31221532821655,\n             38.46377420425415,\n             37.18116521835327,\n             38.128228187561035,\n             37.955602407455444,\n             36.940114974975586],\n 'runtime': [33.52152156829834,\n             34.17901277542114,\n             35.85486888885498,\n             34.622602462768555,\n             38.31221532821655,\n             38.46377420425415,\n             37.18116521835327,\n             38.128228187561035,\n             37.955602407455444,\n             36.940114974975586]}\nplatform = tpu, x64 = True, scale = 60, first run = 36.45760917663574 s\nplatform = tpu, x64 = True, scale = 60, first run = 36.93907928466797 s\nplatform = tpu, x64 = True, scale = 60, first run = 37.1107234954834 s\nplatform = tpu, x64 = True, scale = 60, first run = 36.916810035705566 s\nplatform = tpu, x64 = True, scale = 60, first run = 37.285335302352905 s\nplatform = tpu, x64 = True, scale = 60, first run = 37.48239803314209 s\nplatform = tpu, x64 = True, scale = 60, first run = 37.16320466995239 s\nplatform = tpu, x64 = True, scale = 60, first run = 36.9682936668396 s\nplatform = tpu, x64 = True, scale = 60, first run = 37.676878213882446 s\nplatform = tpu, x64 = True, scale = 60, first run = 36.89907884597778 s\nScale = 60:\n{'exetime': [36.45760917663574,\n             36.93907928466797,\n             37.1107234954834,\n             36.916810035705566,\n             37.285335302352905,\n             37.48239803314209,\n             37.16320466995239,\n             36.9682936668396,\n             37.676878213882446,\n             36.89907884597778],\n 'runtime': [36.45760917663574,\n             36.93907928466797,\n             37.1107234954834,\n             36.916810035705566,\n             37.285335302352905,\n             37.48239803314209,\n             37.16320466995239,\n             36.9682936668396,\n             37.676878213882446,\n             36.89907884597778]}\nplatform = tpu, x64 = True, scale = 80, first run = 36.642956495285034 s\nplatform = tpu, x64 = True, scale = 80, first run = 36.17878866195679 s\nplatform = tpu, x64 = True, scale = 80, first run = 37.12257266044617 s\nplatform = tpu, x64 = True, scale = 80, first run = 36.582820415496826 s\nplatform = tpu, x64 = True, scale = 80, first run = 36.44464564323425 s\nplatform = tpu, x64 = True, scale = 80, first run = 36.49429702758789 s\nplatform = tpu, x64 = True, scale = 80, first run = 37.44492793083191 s\nplatform = tpu, x64 = True, scale = 80, first run = 37.691789865493774 s\nplatform = tpu, x64 = True, scale = 80, first run = 36.919010400772095 s\nplatform = tpu, x64 = True, scale = 80, first run = 36.48356747627258 s\nScale = 80:\n{'exetime': [36.642956495285034,\n             36.17878866195679,\n             37.12257266044617,\n             36.582820415496826,\n             36.44464564323425,\n             36.49429702758789,\n             37.44492793083191,\n             37.691789865493774,\n             36.919010400772095,\n             36.48356747627258],\n 'runtime': [36.642956495285034,\n             36.17878866195679,\n             37.12257266044617,\n             36.582820415496826,\n             36.44464564323425,\n             36.49429702758789,\n             37.44492793083191,\n             37.691789865493774,\n             36.919010400772095,\n             36.48356747627258]}\nplatform = tpu, x64 = True, scale = 100, first run = 36.909401655197144 s\nplatform = tpu, x64 = True, scale = 100, first run = 37.60832762718201 s\nplatform = tpu, x64 = True, scale = 100, first run = 37.245476722717285 s\nplatform = tpu, x64 = True, scale = 100, first run = 37.95696568489075 s\nplatform = tpu, x64 = True, scale = 100, first run = 39.80858874320984 s\nplatform = tpu, x64 = True, scale = 100, first run = 37.74150347709656 s\nplatform = tpu, x64 = True, scale = 100, first run = 37.706130504608154 s\nplatform = tpu, x64 = True, scale = 100, first run = 38.246198654174805 s\nplatform = tpu, x64 = True, scale = 100, first run = 38.384522676467896 s\nplatform = tpu, x64 = True, scale = 100, first run = 37.73196244239807 s\nScale = 100:\n{'exetime': [36.909401655197144,\n             37.60832762718201,\n             37.245476722717285,\n             37.95696568489075,\n             39.80858874320984,\n             37.74150347709656,\n             37.706130504608154,\n             38.246198654174805,\n             38.384522676467896,\n             37.73196244239807],\n 'runtime': [36.909401655197144,\n             37.60832762718201,\n             37.245476722717285,\n             37.95696568489075,\n             39.80858874320984,\n             37.74150347709656,\n             37.706130504608154,\n             38.246198654174805,\n             38.384522676467896,\n             37.73196244239807]}\n",
     "output_type": "stream"
    }
   ]
  },
  {
   "cell_type": "code",
   "source": [
    "benchmark2(jax.devices(), [200, 400, 800, 1000], platform='tpu', x64=True)"
   ],
   "metadata": {
    "execution": {
     "iopub.status.busy": "2023-09-18T09:27:12.250677Z",
     "iopub.execute_input": "2023-09-18T09:27:12.251335Z",
     "iopub.status.idle": "2023-09-18T10:02:53.090759Z",
     "shell.execute_reply.started": "2023-09-18T09:27:12.251301Z",
     "shell.execute_reply": "2023-09-18T10:02:53.089036Z"
    },
    "trusted": true
   },
   "execution_count": 17,
   "outputs": [
    {
     "name": "stdout",
     "text": "platform = tpu, x64 = True, scale = 200, first run = 40.15212893486023 s\nplatform = tpu, x64 = True, scale = 200, first run = 41.32249903678894 s\nplatform = tpu, x64 = True, scale = 200, first run = 42.35366463661194 s\nplatform = tpu, x64 = True, scale = 200, first run = 41.226806640625 s\nplatform = tpu, x64 = True, scale = 200, first run = 41.76349496841431 s\nplatform = tpu, x64 = True, scale = 200, first run = 48.265284061431885 s\nplatform = tpu, x64 = True, scale = 200, first run = 47.717525482177734 s\nplatform = tpu, x64 = True, scale = 200, first run = 48.328460454940796 s\nplatform = tpu, x64 = True, scale = 200, first run = 47.13247036933899 s\nplatform = tpu, x64 = True, scale = 200, first run = 43.94406318664551 s\nScale = 200:\n{'exetime': [40.15212893486023,\n             41.32249903678894,\n             42.35366463661194,\n             41.226806640625,\n             41.76349496841431,\n             48.265284061431885,\n             47.717525482177734,\n             48.328460454940796,\n             47.13247036933899,\n             43.94406318664551],\n 'runtime': [40.15212893486023,\n             41.32249903678894,\n             42.35366463661194,\n             41.226806640625,\n             41.76349496841431,\n             48.265284061431885,\n             47.717525482177734,\n             48.328460454940796,\n             47.13247036933899,\n             43.94406318664551]}\nplatform = tpu, x64 = True, scale = 400, first run = 48.12576603889465 s\nplatform = tpu, x64 = True, scale = 400, first run = 48.821712017059326 s\nplatform = tpu, x64 = True, scale = 400, first run = 52.495585441589355 s\nplatform = tpu, x64 = True, scale = 400, first run = 51.34965133666992 s\nplatform = tpu, x64 = True, scale = 400, first run = 51.85240387916565 s\nplatform = tpu, x64 = True, scale = 400, first run = 52.28769564628601 s\nplatform = tpu, x64 = True, scale = 400, first run = 51.76412749290466 s\nplatform = tpu, x64 = True, scale = 400, first run = 51.92508053779602 s\nplatform = tpu, x64 = True, scale = 400, first run = 50.04766058921814 s\nplatform = tpu, x64 = True, scale = 400, first run = 50.64871597290039 s\nScale = 400:\n{'exetime': [48.12576603889465,\n             48.821712017059326,\n             52.495585441589355,\n             51.34965133666992,\n             51.85240387916565,\n             52.28769564628601,\n             51.76412749290466,\n             51.92508053779602,\n             50.04766058921814,\n             50.64871597290039],\n 'runtime': [48.12576603889465,\n             48.821712017059326,\n             52.495585441589355,\n             51.34965133666992,\n             51.85240387916565,\n             52.28769564628601,\n             51.76412749290466,\n             51.92508053779602,\n             50.04766058921814,\n             50.64871597290039]}\nplatform = tpu, x64 = True, scale = 800, first run = 57.608919620513916 s\nplatform = tpu, x64 = True, scale = 800, first run = 58.089990854263306 s\nplatform = tpu, x64 = True, scale = 800, first run = 57.62530851364136 s\nplatform = tpu, x64 = True, scale = 800, first run = 59.235482931137085 s\nplatform = tpu, x64 = True, scale = 800, first run = 57.67981815338135 s\nplatform = tpu, x64 = True, scale = 800, first run = 57.19797468185425 s\nplatform = tpu, x64 = True, scale = 800, first run = 57.52258801460266 s\nplatform = tpu, x64 = True, scale = 800, first run = 56.59555268287659 s\nplatform = tpu, x64 = True, scale = 800, first run = 58.343663930892944 s\nplatform = tpu, x64 = True, scale = 800, first run = 56.67980456352234 s\nScale = 800:\n{'exetime': [57.608919620513916,\n             58.089990854263306,\n             57.62530851364136,\n             59.235482931137085,\n             57.67981815338135,\n             57.19797468185425,\n             57.52258801460266,\n             56.59555268287659,\n             58.343663930892944,\n             56.67980456352234],\n 'runtime': [57.608919620513916,\n             58.089990854263306,\n             57.62530851364136,\n             59.235482931137085,\n             57.67981815338135,\n             57.19797468185425,\n             57.52258801460266,\n             56.59555268287659,\n             58.343663930892944,\n             56.67980456352234]}\nplatform = tpu, x64 = True, scale = 1000, first run = 59.386435747146606 s\nplatform = tpu, x64 = True, scale = 1000, first run = 59.77450609207153 s\nplatform = tpu, x64 = True, scale = 1000, first run = 59.554253339767456 s\nplatform = tpu, x64 = True, scale = 1000, first run = 59.6393723487854 s\nplatform = tpu, x64 = True, scale = 1000, first run = 61.29528522491455 s\nplatform = tpu, x64 = True, scale = 1000, first run = 60.32201600074768 s\nplatform = tpu, x64 = True, scale = 1000, first run = 59.56246495246887 s\nplatform = tpu, x64 = True, scale = 1000, first run = 60.198561668395996 s\nplatform = tpu, x64 = True, scale = 1000, first run = 59.40800189971924 s\nplatform = tpu, x64 = True, scale = 1000, first run = 60.2600417137146 s\nScale = 1000:\n{'exetime': [59.386435747146606,\n             59.77450609207153,\n             59.554253339767456,\n             59.6393723487854,\n             61.29528522491455,\n             60.32201600074768,\n             59.56246495246887,\n             60.198561668395996,\n             59.40800189971924,\n             60.2600417137146],\n 'runtime': [59.386435747146606,\n             59.77450609207153,\n             59.554253339767456,\n             59.6393723487854,\n             61.29528522491455,\n             60.32201600074768,\n             59.56246495246887,\n             60.198561668395996,\n             59.40800189971924,\n             60.2600417137146]}\n",
     "output_type": "stream"
    }
   ]
  }
 ]
}
