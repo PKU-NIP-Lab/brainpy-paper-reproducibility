{
 "metadata": {
  "kernelspec": {
   "language": "python",
   "display_name": "Python 3",
   "name": "python3"
  },
  "language_info": {
   "name": "python",
   "version": "3.8.17",
   "mimetype": "text/x-python",
   "codemirror_mode": {
    "name": "ipython",
    "version": 3
   },
   "pygments_lexer": "ipython3",
   "nbconvert_exporter": "python",
   "file_extension": ".py"
  }
 },
 "nbformat_minor": 4,
 "nbformat": 4,
 "cells": [
  {
   "cell_type": "code",
   "source": [
    "!pip install jax[tpu]==0.4.11 -f https://storage.googleapis.com/jax-releases/libtpu_releases.html"
   ],
   "metadata": {
    "_uuid": "8f2839f25d086af736a60e9eeb907d3b93b6e0e5",
    "_cell_guid": "b1076dfc-b9ad-4769-8c92-a6c4dae69d19",
    "trusted": true
   },
   "execution_count": null,
   "outputs": []
  },
  {
   "cell_type": "code",
   "source": [
    "import jax\n",
    "print(jax.__version__)\n",
    "print(jax.devices())"
   ],
   "metadata": {
    "trusted": true
   },
   "execution_count": null,
   "outputs": []
  },
  {
   "cell_type": "code",
   "source": [
    "!pip install brainpy"
   ],
   "metadata": {
    "trusted": true
   },
   "execution_count": null,
   "outputs": []
  },
  {
   "cell_type": "code",
   "source": [
    "import time\n",
    "\n",
    "import brainpy as bp\n",
    "import brainpy.math as bm\n",
    "import numpy as np"
   ],
   "metadata": {
    "trusted": true
   },
   "execution_count": null,
   "outputs": []
  },
  {
   "cell_type": "code",
   "source": [
    "bm.set_dt(0.1)\n",
    "\n",
    "s = 1e-2\n",
    "Cm = 200 * s  # Membrane Capacitance [pF]\n",
    "gl = 10. * s  # Leak Conductance   [nS]\n",
    "g_Na = 20. * 1000 * s\n",
    "g_Kd = 6. * 1000 * s  # K Conductance      [nS]\n",
    "El = -60.  # Resting Potential [mV]\n",
    "ENa = 50.  # reversal potential (Sodium) [mV]\n",
    "EK = -90.  # reversal potential (Potassium) [mV]\n",
    "VT = -63.\n",
    "V_th = -20.\n",
    "taue = 5.  # Excitatory synaptic time constant [ms]\n",
    "taui = 10.  # Inhibitory synaptic time constant [ms]\n",
    "Ee = 0.  # Excitatory reversal potential (mV)\n",
    "Ei = -80.  # Inhibitory reversal potential (Potassium) [mV]\n",
    "we = 6. * s  # excitatory synaptic conductance [nS]\n",
    "wi = 67. * s  # inhibitory synaptic conductance [nS]"
   ],
   "metadata": {
    "trusted": true
   },
   "execution_count": null,
   "outputs": []
  },
  {
   "cell_type": "code",
   "source": [
    "class HH(bp.dyn.NeuDyn):\n",
    "    def __init__(self, size, method='exp_auto'):\n",
    "        super(HH, self).__init__(size)\n",
    "\n",
    "        # variables\n",
    "        self.V = bm.Variable(El + bm.random.randn(self.num) * 5 - 5.)\n",
    "        self.m = bm.Variable(bm.zeros(self.num))\n",
    "        self.n = bm.Variable(bm.zeros(self.num))\n",
    "        self.h = bm.Variable(bm.zeros(self.num))\n",
    "        self.spike = bm.Variable(bm.zeros(self.num, dtype=bool))\n",
    "\n",
    "        # functions\n",
    "        self.integral = bp.odeint(bp.JointEq(self.dV, self.dm, self.dh, self.dn), method=method)\n",
    "\n",
    "    def dV(self, V, t, m, h, n, Isyn):\n",
    "        Isyn = self.sum_inputs(self.V.value, init=Isyn)  # sum projection inputs\n",
    "        gna = g_Na * (m * m * m) * h\n",
    "        gkd = g_Kd * (n * n * n * n)\n",
    "        dVdt = (-gl * (V - El) - gna * (V - ENa) - gkd * (V - EK) + Isyn) / Cm\n",
    "        return dVdt\n",
    "\n",
    "    def dm(self, m, t, V, ):\n",
    "        m_alpha = 0.32 * (13 - V + VT) / (bm.exp((13 - V + VT) / 4) - 1.)\n",
    "        m_beta = 0.28 * (V - VT - 40) / (bm.exp((V - VT - 40) / 5) - 1)\n",
    "        dmdt = (m_alpha * (1 - m) - m_beta * m)\n",
    "        return dmdt\n",
    "\n",
    "    def dh(self, h, t, V):\n",
    "        h_alpha = 0.128 * bm.exp((17 - V + VT) / 18)\n",
    "        h_beta = 4. / (1 + bm.exp(-(V - VT - 40) / 5))\n",
    "        dhdt = (h_alpha * (1 - h) - h_beta * h)\n",
    "        return dhdt\n",
    "\n",
    "    def dn(self, n, t, V):\n",
    "        c = 15 - V + VT\n",
    "        n_alpha = 0.032 * c / (bm.exp(c / 5) - 1.)\n",
    "        n_beta = .5 * bm.exp((10 - V + VT) / 40)\n",
    "        dndt = (n_alpha * (1 - n) - n_beta * n)\n",
    "        return dndt\n",
    "\n",
    "    def update(self, inp=0.):\n",
    "        V, m, h, n = self.integral(self.V, self.m, self.h, self.n, bp.share['t'],\n",
    "                                   Isyn=inp, dt=bp.share['dt'])\n",
    "        self.spike.value = bm.logical_and(self.V < V_th, V >= V_th)\n",
    "        self.m.value = m\n",
    "        self.h.value = h\n",
    "        self.n.value = n\n",
    "        self.V.value = V\n",
    "        return self.spike.value"
   ],
   "metadata": {
    "trusted": true
   },
   "execution_count": null,
   "outputs": []
  },
  {
   "cell_type": "code",
   "source": [
    "class MaskedLinear(bp.dnn.Layer):\n",
    "  def __init__(self, num_pre, num_post, prob, weight):\n",
    "    super().__init__()\n",
    "    print('Using masked linear')\n",
    "    self.weight = weight\n",
    "    f = bm.jit(lambda key, s1, s2: jax.random.uniform(key, (s1, s2)) < 0.1,\n",
    "               static_argnums=(1, 2),\n",
    "               out_shardings=bm.sharding.get_sharding([None, bm.sharding.NEU_AXIS]))\n",
    "    self.mask = f(bm.random.split_key(), num_pre, num_post)\n",
    "\n",
    "  def update(self, x):\n",
    "    return (x @ self.mask) * self.weight"
   ],
   "metadata": {
    "trusted": true
   },
   "execution_count": null,
   "outputs": []
  },
  {
   "cell_type": "code",
   "source": [
    "class RandomLinear(bp.dnn.Layer):\n",
    "  def __init__(self, num_pre, num_post, prob, weight):\n",
    "    super().__init__()\n",
    "    self.weight = weight\n",
    "    self.prob = prob\n",
    "    self.num_pre = num_pre\n",
    "    self.num_post = num_post\n",
    "    self.keys = bm.random.DEFAULT.split_keys(num_post)\n",
    "    print('Using random linear')\n",
    "    \n",
    "  def update(self, x):\n",
    "    def _f(key):\n",
    "        return bm.inner(x, bm.random.random(self.num_pre, key=key) < self.prob)\n",
    "    return bm.for_loop(_f, self.keys) * self.weight"
   ],
   "metadata": {
    "trusted": true
   },
   "execution_count": null,
   "outputs": []
  },
  {
   "cell_type": "code",
   "source": [
    "class Exponential(bp.Projection):\n",
    "    def __init__(self, num_pre, post, prob, g_max, tau, E):\n",
    "        super().__init__()\n",
    "\n",
    "        self.proj = bp.dyn.ProjAlignPostMg1(\n",
    "            # comm=bp.dnn.CSRLinear(bp.conn.FixedProb(prob, pre=num_pre, post=post.num, allow_multi_conn=True), g_max),\n",
    "            # comm=bp.dnn.MaskedLinear(bp.conn.FixedProb(prob, pre=num_pre, post=post.num, allow_multi_conn=True), g_max),\n",
    "            # comm=MaskedLinear(num_pre, post.num, prob, g_max),\n",
    "            comm=RandomLinear(num_pre, post.num, prob, g_max),\n",
    "            syn=bp.dyn.Expon.desc(post.num, tau=tau),\n",
    "            out=bp.dyn.COBA.desc(E=E),\n",
    "            post=post\n",
    "        )\n",
    "\n",
    "    def update(self, spk):\n",
    "        spk = bm.asarray(spk, dtype=float)\n",
    "        self.proj.update(spk)"
   ],
   "metadata": {
    "trusted": true
   },
   "execution_count": null,
   "outputs": []
  },
  {
   "cell_type": "code",
   "source": [
    "class COBA_HH_Net(bp.DynSysGroup):\n",
    "    def __init__(self, scale=1., method='exp_auto', monitor=False):\n",
    "        super(COBA_HH_Net, self).__init__()\n",
    "        self.monitor = monitor\n",
    "        self.num_exc = int(3200 * scale)\n",
    "        self.num_inh = int(800 * scale)\n",
    "        self.num = self.num_exc + self.num_inh\n",
    "\n",
    "        self.N = HH(self.num, method=method)\n",
    "        self.E = Exponential(self.num_exc, self.N, prob=80 / self.num, g_max=we, tau=taue, E=Ee)\n",
    "        self.I = Exponential(self.num_inh, self.N, prob=80 / self.num, g_max=wi, tau=taui, E=Ei)\n",
    "\n",
    "    def update(self):\n",
    "        self.E(self.N.spike[:self.num_exc])\n",
    "        self.I(self.N.spike[self.num_exc:])\n",
    "        self.N()\n",
    "        if self.monitor:\n",
    "            return self.N.spike.value"
   ],
   "metadata": {
    "trusted": true
   },
   "execution_count": null,
   "outputs": []
  },
  {
   "cell_type": "code",
   "source": [
    "def run_a_simulation(scale=10, duration=1e3, platform='cpu', x64=True, monitor=False):\n",
    "    bm.set_platform(platform)\n",
    "    bm.random.seed()\n",
    "    if x64:\n",
    "        bm.enable_x64()\n",
    "\n",
    "    net = COBA_HH_Net(scale=scale, monitor=monitor)\n",
    "    indices = np.arange(int(duration / bm.get_dt()))\n",
    "\n",
    "    t0 = time.time()\n",
    "    r = bm.for_loop(net.step_run, indices, progress_bar=False)\n",
    "    t1 = time.time()\n",
    "\n",
    "    # running\n",
    "    if monitor:\n",
    "        print(f'scale={scale}, size={net.num}, time = {t1 - t0} s, '\n",
    "              f'firing rate = {r.sum() / net.num / duration * 1e3} Hz')\n",
    "    else:\n",
    "        print(f'scale={scale}, size={net.num}, time = {t1 - t0} s')\n",
    "    bm.disable_x64()\n",
    "    bm.clear_buffer_memory(platform)\n",
    "    return net.N.num, t1 - t0, t1 - t0"
   ],
   "metadata": {
    "trusted": true
   },
   "execution_count": null,
   "outputs": []
  },
  {
   "cell_type": "code",
   "source": [
    "def run_a_simulation2(scale=10, duration=1e3, platform='cpu', x64=True, monitor=False):\n",
    "    bm.set_platform(platform)\n",
    "    bm.random.seed()\n",
    "    if x64:\n",
    "        bm.enable_x64()\n",
    "\n",
    "    net = COBA_HH_Net(scale=scale, monitor=monitor)\n",
    "    indices = np.arange(int(duration / bm.get_dt()))\n",
    "    \n",
    "    @bm.jit\n",
    "    def run(indices):\n",
    "        return bm.for_loop(net.step_run, indices, progress_bar=False)\n",
    "    \n",
    "    t0 = time.time()\n",
    "    r = run(indices)\n",
    "    t1 = time.time()\n",
    "    \n",
    "    indices = np.arange(int(duration / bm.get_dt()), int(duration / bm.get_dt()) * 2)\n",
    "    t2 = time.time()\n",
    "    r = run(indices)\n",
    "    t3 = time.time()\n",
    "    \n",
    "    # running\n",
    "    if monitor:\n",
    "        r = bm.as_numpy(r)\n",
    "        print(f'scale={scale}, size={net.num}, first run time = {t1 - t0} s, second run time = {t3 - t2} s, '\n",
    "              f'firing rate = {r.sum() / net.num / duration * 1e3} Hz')\n",
    "    else:\n",
    "        print(f'scale={scale}, size={net.num}, first run time = {t1 - t0} s, second run time = {t3 - t2} s')\n",
    "#     bm.disable_x64()\n",
    "#     bm.clear_buffer_memory(platform)\n",
    "    return net.N.num, t1 - t0, t3 - t2"
   ],
   "metadata": {
    "trusted": true
   },
   "execution_count": null,
   "outputs": []
  },
  {
   "cell_type": "code",
   "source": [
    "def check_firing_rate(x64=True, platform='cpu'):\n",
    "    for scale in [1, 2, 4, 6, 8, 10, 20, 40, 60, 80, 100]:\n",
    "        run_a_simulation2(scale=scale, duration=5e3, platform=platform, x64=x64, monitor=True)"
   ],
   "metadata": {
    "trusted": true
   },
   "execution_count": null,
   "outputs": []
  },
  {
   "cell_type": "code",
   "source": [
    "def evaluate_times(x64=True, platform='cpu', monitor=False):\n",
    "    for scale in [1, 2, 4, 6, 8, 10, 20, 40, 60, 80, 100]:\n",
    "        run_a_simulation2(scale=scale, duration=5e3, platform=platform, x64=x64, monitor=monitor)"
   ],
   "metadata": {
    "trusted": true
   },
   "execution_count": null,
   "outputs": []
  },
  {
   "cell_type": "code",
   "source": [
    "# bm.clear_buffer_memory('tpu')\n",
    "# bm.random.seed()\n",
    "# with bm.sharding.device_mesh(jax.devices(), [bm.sharding.NEU_AXIS]):\n",
    "#     f = bm.jit(lambda key, s1, s2: jax.random.uniform(key, (s1, s2)) < 0.1,\n",
    "#                static_argnums=(1, 2),\n",
    "#                out_shardings=bm.sharding.get_sharding([None, bm.sharding.NEU_AXIS]))\n",
    "#     s = 18\n",
    "#     r = f(bm.random.split_key(), int(3200 * s), int(4000 * s))\n",
    "#     jax.debug.visualize_array_sharding(r)\n",
    "#     print(r.shape)\n",
    "    \n",
    "#     print(\"Size of the array: \", r.size)\n",
    "#     print(\"Memory size of one array element in bytes: \", r.itemsize)\n",
    "#     print(\"Memory size of array in bytes:\", r.size * r.itemsize)\n",
    "#     print(\"Memory size of array in Gb:\", r.size * r.itemsize / 1024 ** 3)"
   ],
   "metadata": {
    "trusted": true
   },
   "execution_count": null,
   "outputs": []
  },
  {
   "cell_type": "code",
   "source": [
    "# bm.clear_buffer_memory('tpu')\n",
    "# bm.random.seed()\n",
    "# with bm.sharding.device_mesh(jax.devices(), [bm.sharding.NEU_AXIS]):\n",
    "#     run_a_simulation(scale=18, duration=5e3, platform='tpu', x64=False, monitor=False)"
   ],
   "metadata": {
    "trusted": true
   },
   "execution_count": null,
   "outputs": []
  },
  {
   "cell_type": "code",
   "source": [
    "# for s in [1, 4, 8, 12, 16]:\n",
    "#     bm.clear_buffer_memory('tpu')\n",
    "#     bm.random.seed()\n",
    "#     with bm.sharding.device_mesh(jax.devices(), [bm.sharding.NEU_AXIS]):\n",
    "#         run_a_simulation(scale=s, duration=5e3, platform='tpu', x64=False, monitor=False)"
   ],
   "metadata": {
    "trusted": true
   },
   "execution_count": null,
   "outputs": []
  },
  {
   "cell_type": "code",
   "source": [
    "# for s in [1, 4, 8, 12, 16]:\n",
    "# #     bm.clear_buffer_memory('tpu')\n",
    "#     bm.random.seed()\n",
    "#     with bm.sharding.device_mesh(jax.devices(), [bm.sharding.NEU_AXIS]):\n",
    "#         run_a_simulation(scale=s, duration=5e3, platform='tpu', x64=False, monitor=False)"
   ],
   "metadata": {
    "trusted": true
   },
   "execution_count": null,
   "outputs": []
  },
  {
   "cell_type": "code",
   "source": [
    "run_a_simulation2(scale=10, duration=5e3, platform='tpu', x64=False, monitor=True)"
   ],
   "metadata": {
    "trusted": true
   },
   "execution_count": null,
   "outputs": []
  },
  {
   "cell_type": "code",
   "source": [
    "run_a_simulation2(scale=10, duration=5e3, platform='tpu', x64=False, monitor=True)"
   ],
   "metadata": {
    "trusted": true
   },
   "execution_count": null,
   "outputs": []
  },
  {
   "cell_type": "code",
   "source": [
    "# check_firing_rate(x64=True, platform='tpu')"
   ],
   "metadata": {
    "trusted": true
   },
   "execution_count": null,
   "outputs": []
  },
  {
   "cell_type": "code",
   "source": [],
   "metadata": {},
   "execution_count": null,
   "outputs": []
  }
 ]
}
